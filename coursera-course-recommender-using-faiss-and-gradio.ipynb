{
 "cells": [
  {
   "cell_type": "code",
   "execution_count": 2,
   "id": "e6740c98",
   "metadata": {
    "execution": {
     "iopub.execute_input": "2023-11-05T06:17:57.292232Z",
     "iopub.status.busy": "2023-11-05T06:17:57.290753Z",
     "iopub.status.idle": "2023-11-05T06:17:57.297636Z",
     "shell.execute_reply": "2023-11-05T06:17:57.296539Z"
    },
    "papermill": {
     "duration": 0.019037,
     "end_time": "2023-11-05T06:17:57.299756",
     "exception": false,
     "start_time": "2023-11-05T06:17:57.280719",
     "status": "completed"
    },
    "tags": []
   },
   "outputs": [],
   "source": [
    "# !pip install faiss-gpu\n",
    "# !pip install gradio"
   ]
  },
  {
   "cell_type": "markdown",
   "id": "0c6467ee",
   "metadata": {},
   "source": [
    "## init"
   ]
  },
  {
   "cell_type": "code",
   "execution_count": 4,
   "id": "d00ec76e",
   "metadata": {
    "execution": {
     "iopub.execute_input": "2023-11-05T06:17:57.312803Z",
     "iopub.status.busy": "2023-11-05T06:17:57.312498Z",
     "iopub.status.idle": "2023-11-05T06:18:00.843846Z",
     "shell.execute_reply": "2023-11-05T06:18:00.842579Z"
    },
    "papermill": {
     "duration": 3.539568,
     "end_time": "2023-11-05T06:18:00.845492",
     "exception": true,
     "start_time": "2023-11-05T06:17:57.305924",
     "status": "failed"
    },
    "tags": []
   },
   "outputs": [],
   "source": [
    "import numpy as np\n",
    "import pandas as pd\n",
    "import random\n",
    "\n",
    "import gradio as gr\n",
    "import faiss\n",
    "\n",
    "from sklearn.feature_extraction.text import TfidfVectorizer\n",
    "\n",
    "import warnings\n",
    "warnings.filterwarnings('ignore')"
   ]
  },
  {
   "cell_type": "code",
   "execution_count": 5,
   "id": "c66d7316",
   "metadata": {
    "execution": {
     "iopub.execute_input": "2023-11-05T05:55:21.631156Z",
     "iopub.status.busy": "2023-11-05T05:55:21.630752Z",
     "iopub.status.idle": "2023-11-05T05:55:21.703226Z",
     "shell.execute_reply": "2023-11-05T05:55:21.702299Z",
     "shell.execute_reply.started": "2023-11-05T05:55:21.631124Z"
    },
    "papermill": {
     "duration": null,
     "end_time": null,
     "exception": null,
     "start_time": null,
     "status": "pending"
    },
    "tags": []
   },
   "outputs": [],
   "source": [
    "data = pd.read_csv(r'coursera_courses.csv')"
   ]
  },
  {
   "cell_type": "code",
   "execution_count": 6,
   "id": "38a7e77d",
   "metadata": {
    "execution": {
     "iopub.execute_input": "2023-11-05T05:55:35.286030Z",
     "iopub.status.busy": "2023-11-05T05:55:35.285607Z",
     "iopub.status.idle": "2023-11-05T05:55:35.293736Z",
     "shell.execute_reply": "2023-11-05T05:55:35.292641Z",
     "shell.execute_reply.started": "2023-11-05T05:55:35.285999Z"
    },
    "papermill": {
     "duration": null,
     "end_time": null,
     "exception": null,
     "start_time": null,
     "status": "pending"
    },
    "tags": []
   },
   "outputs": [
    {
     "data": {
      "text/plain": [
       "(1000, 13)"
      ]
     },
     "execution_count": 6,
     "metadata": {},
     "output_type": "execute_result"
    }
   ],
   "source": [
    "data.shape"
   ]
  },
  {
   "cell_type": "code",
   "execution_count": 7,
   "id": "06deab60",
   "metadata": {
    "execution": {
     "iopub.execute_input": "2023-11-05T05:55:37.834374Z",
     "iopub.status.busy": "2023-11-05T05:55:37.833542Z",
     "iopub.status.idle": "2023-11-05T05:55:37.857978Z",
     "shell.execute_reply": "2023-11-05T05:55:37.857052Z",
     "shell.execute_reply.started": "2023-11-05T05:55:37.834337Z"
    },
    "papermill": {
     "duration": null,
     "end_time": null,
     "exception": null,
     "start_time": null,
     "status": "pending"
    },
    "tags": []
   },
   "outputs": [
    {
     "data": {
      "text/html": [
       "<div>\n",
       "<style scoped>\n",
       "    .dataframe tbody tr th:only-of-type {\n",
       "        vertical-align: middle;\n",
       "    }\n",
       "\n",
       "    .dataframe tbody tr th {\n",
       "        vertical-align: top;\n",
       "    }\n",
       "\n",
       "    .dataframe thead th {\n",
       "        text-align: right;\n",
       "    }\n",
       "</style>\n",
       "<table border=\"1\" class=\"dataframe\">\n",
       "  <thead>\n",
       "    <tr style=\"text-align: right;\">\n",
       "      <th></th>\n",
       "      <th>Unnamed: 0</th>\n",
       "      <th>course_title</th>\n",
       "      <th>course_organization</th>\n",
       "      <th>course_certificate_type</th>\n",
       "      <th>course_time</th>\n",
       "      <th>course_rating</th>\n",
       "      <th>course_reviews_num</th>\n",
       "      <th>course_difficulty</th>\n",
       "      <th>course_url</th>\n",
       "      <th>course_students_enrolled</th>\n",
       "      <th>course_skills</th>\n",
       "      <th>course_summary</th>\n",
       "      <th>course_description</th>\n",
       "    </tr>\n",
       "  </thead>\n",
       "  <tbody>\n",
       "    <tr>\n",
       "      <th>0</th>\n",
       "      <td>196</td>\n",
       "      <td>(ISC)² Systems Security Certified Practitioner...</td>\n",
       "      <td>ISC2</td>\n",
       "      <td>Specialization</td>\n",
       "      <td>3 - 6 Months</td>\n",
       "      <td>4.7</td>\n",
       "      <td>484</td>\n",
       "      <td>Beginner</td>\n",
       "      <td>https://www.coursera.org/specializations/sscp-...</td>\n",
       "      <td>6,706</td>\n",
       "      <td>['Security Software', 'Risk Management', 'Acce...</td>\n",
       "      <td>[]</td>\n",
       "      <td>Pursue better IT security job opportunities an...</td>\n",
       "    </tr>\n",
       "    <tr>\n",
       "      <th>1</th>\n",
       "      <td>648</td>\n",
       "      <td>.NET FullStack Developer</td>\n",
       "      <td>Board Infinity</td>\n",
       "      <td>Specialization</td>\n",
       "      <td>1 - 3 Months</td>\n",
       "      <td>4.3</td>\n",
       "      <td>49</td>\n",
       "      <td>Intermediate</td>\n",
       "      <td>https://www.coursera.org/specializations/dot-n...</td>\n",
       "      <td>2,140</td>\n",
       "      <td>['Web API', 'Web Development', 'Cascading Styl...</td>\n",
       "      <td>['Master .NET full stack web dev: from .NET co...</td>\n",
       "      <td>Develop the proficiency required to design and...</td>\n",
       "    </tr>\n",
       "    <tr>\n",
       "      <th>2</th>\n",
       "      <td>928</td>\n",
       "      <td>21st Century Energy Transition: how do we make...</td>\n",
       "      <td>University of Alberta</td>\n",
       "      <td>Course</td>\n",
       "      <td>1 - 3 Months</td>\n",
       "      <td>4.8</td>\n",
       "      <td>59</td>\n",
       "      <td>Beginner</td>\n",
       "      <td>https://www.coursera.org/learn/21st-century-en...</td>\n",
       "      <td>4,282</td>\n",
       "      <td>[]</td>\n",
       "      <td>['Understand the complexity of systems supplyi...</td>\n",
       "      <td>Affordable, abundant and reliable energy is fu...</td>\n",
       "    </tr>\n",
       "    <tr>\n",
       "      <th>3</th>\n",
       "      <td>580</td>\n",
       "      <td>A Crash Course in Causality:  Inferring Causal...</td>\n",
       "      <td>University of Pennsylvania</td>\n",
       "      <td>Course</td>\n",
       "      <td>1 - 3 Months</td>\n",
       "      <td>4.7</td>\n",
       "      <td>515</td>\n",
       "      <td>Intermediate</td>\n",
       "      <td>https://www.coursera.org/learn/crash-course-in...</td>\n",
       "      <td>38,833</td>\n",
       "      <td>[]</td>\n",
       "      <td>[]</td>\n",
       "      <td>We have all heard the phrase “correlation does...</td>\n",
       "    </tr>\n",
       "    <tr>\n",
       "      <th>4</th>\n",
       "      <td>918</td>\n",
       "      <td>A life with ADHD</td>\n",
       "      <td>University of Geneva</td>\n",
       "      <td>Course</td>\n",
       "      <td>1 - 3 Months</td>\n",
       "      <td>NaN</td>\n",
       "      <td>NaN</td>\n",
       "      <td>Beginner</td>\n",
       "      <td>https://www.coursera.org/learn/life-with-adhd</td>\n",
       "      <td>NaN</td>\n",
       "      <td>['differential diagnosis and comorbidities', '...</td>\n",
       "      <td>[' Understand what ADHD is and the challenges ...</td>\n",
       "      <td>What is ADHD and what are the challenges that ...</td>\n",
       "    </tr>\n",
       "  </tbody>\n",
       "</table>\n",
       "</div>"
      ],
      "text/plain": [
       "   Unnamed: 0                                       course_title  \\\n",
       "0         196  (ISC)² Systems Security Certified Practitioner...   \n",
       "1         648                           .NET FullStack Developer   \n",
       "2         928  21st Century Energy Transition: how do we make...   \n",
       "3         580  A Crash Course in Causality:  Inferring Causal...   \n",
       "4         918                                   A life with ADHD   \n",
       "\n",
       "          course_organization course_certificate_type   course_time  \\\n",
       "0                        ISC2          Specialization  3 - 6 Months   \n",
       "1             Board Infinity           Specialization  1 - 3 Months   \n",
       "2       University of Alberta                  Course  1 - 3 Months   \n",
       "3  University of Pennsylvania                  Course  1 - 3 Months   \n",
       "4        University of Geneva                  Course  1 - 3 Months   \n",
       "\n",
       "   course_rating course_reviews_num course_difficulty  \\\n",
       "0            4.7                484          Beginner   \n",
       "1            4.3                 49      Intermediate   \n",
       "2            4.8                 59          Beginner   \n",
       "3            4.7                515      Intermediate   \n",
       "4            NaN                NaN          Beginner   \n",
       "\n",
       "                                          course_url course_students_enrolled  \\\n",
       "0  https://www.coursera.org/specializations/sscp-...                    6,706   \n",
       "1  https://www.coursera.org/specializations/dot-n...                    2,140   \n",
       "2  https://www.coursera.org/learn/21st-century-en...                    4,282   \n",
       "3  https://www.coursera.org/learn/crash-course-in...                   38,833   \n",
       "4      https://www.coursera.org/learn/life-with-adhd                      NaN   \n",
       "\n",
       "                                       course_skills  \\\n",
       "0  ['Security Software', 'Risk Management', 'Acce...   \n",
       "1  ['Web API', 'Web Development', 'Cascading Styl...   \n",
       "2                                                 []   \n",
       "3                                                 []   \n",
       "4  ['differential diagnosis and comorbidities', '...   \n",
       "\n",
       "                                      course_summary  \\\n",
       "0                                                 []   \n",
       "1  ['Master .NET full stack web dev: from .NET co...   \n",
       "2  ['Understand the complexity of systems supplyi...   \n",
       "3                                                 []   \n",
       "4  [' Understand what ADHD is and the challenges ...   \n",
       "\n",
       "                                  course_description  \n",
       "0  Pursue better IT security job opportunities an...  \n",
       "1  Develop the proficiency required to design and...  \n",
       "2  Affordable, abundant and reliable energy is fu...  \n",
       "3  We have all heard the phrase “correlation does...  \n",
       "4  What is ADHD and what are the challenges that ...  "
      ]
     },
     "execution_count": 7,
     "metadata": {},
     "output_type": "execute_result"
    }
   ],
   "source": [
    "data.head()"
   ]
  },
  {
   "cell_type": "markdown",
   "id": "b32a1c2f",
   "metadata": {},
   "source": [
    "## create corpus"
   ]
  },
  {
   "cell_type": "code",
   "execution_count": 8,
   "id": "d4a2e178",
   "metadata": {
    "execution": {
     "iopub.execute_input": "2023-11-05T06:01:04.480298Z",
     "iopub.status.busy": "2023-11-05T06:01:04.479934Z",
     "iopub.status.idle": "2023-11-05T06:01:04.484912Z",
     "shell.execute_reply": "2023-11-05T06:01:04.483818Z",
     "shell.execute_reply.started": "2023-11-05T06:01:04.480271Z"
    },
    "papermill": {
     "duration": null,
     "end_time": null,
     "exception": null,
     "start_time": null,
     "status": "pending"
    },
    "tags": []
   },
   "outputs": [],
   "source": [
    "course_corpus = data['course_title']"
   ]
  },
  {
   "cell_type": "markdown",
   "id": "75eecb2e",
   "metadata": {},
   "source": [
    "## create vector database index"
   ]
  },
  {
   "cell_type": "code",
   "execution_count": 9,
   "id": "f7ec70c5",
   "metadata": {
    "execution": {
     "iopub.execute_input": "2023-11-05T06:04:14.362787Z",
     "iopub.status.busy": "2023-11-05T06:04:14.361793Z",
     "iopub.status.idle": "2023-11-05T06:04:14.415710Z",
     "shell.execute_reply": "2023-11-05T06:04:14.414724Z",
     "shell.execute_reply.started": "2023-11-05T06:04:14.362749Z"
    },
    "papermill": {
     "duration": null,
     "end_time": null,
     "exception": null,
     "start_time": null,
     "status": "pending"
    },
    "tags": []
   },
   "outputs": [],
   "source": [
    "vectorizer = TfidfVectorizer(analyzer='char_wb', ngram_range=(3,3), min_df=5)\n",
    "X = vectorizer.fit_transform(course_corpus)"
   ]
  },
  {
   "cell_type": "code",
   "execution_count": 12,
   "id": "e675686c",
   "metadata": {
    "execution": {
     "iopub.execute_input": "2023-11-05T06:07:11.904819Z",
     "iopub.status.busy": "2023-11-05T06:07:11.904457Z",
     "iopub.status.idle": "2023-11-05T06:07:11.949308Z",
     "shell.execute_reply": "2023-11-05T06:07:11.948342Z",
     "shell.execute_reply.started": "2023-11-05T06:07:11.904787Z"
    },
    "papermill": {
     "duration": null,
     "end_time": null,
     "exception": null,
     "start_time": null,
     "status": "pending"
    },
    "tags": []
   },
   "outputs": [],
   "source": [
    "#convert sparse matrix to numpy array\n",
    "X_array = np.float32(X.toarray())\n",
    "\n",
    "# create vector database index\n",
    "index = faiss.IndexFlatL2(X_array.shape[1])\n",
    "\n",
    "# add vectors to the index\n",
    "index.add(X_array)"
   ]
  },
  {
   "cell_type": "markdown",
   "id": "ce590949",
   "metadata": {},
   "source": [
    "## testing search"
   ]
  },
  {
   "cell_type": "code",
   "execution_count": 19,
   "id": "767208ea",
   "metadata": {
    "execution": {
     "iopub.execute_input": "2023-11-05T06:13:55.634451Z",
     "iopub.status.busy": "2023-11-05T06:13:55.634067Z",
     "iopub.status.idle": "2023-11-05T06:13:55.643050Z",
     "shell.execute_reply": "2023-11-05T06:13:55.641891Z",
     "shell.execute_reply.started": "2023-11-05T06:13:55.634420Z"
    },
    "papermill": {
     "duration": null,
     "end_time": null,
     "exception": null,
     "start_time": null,
     "status": "pending"
    },
    "tags": []
   },
   "outputs": [
    {
     "name": "stdout",
     "output_type": "stream",
     "text": [
      "Course Ttile: Data Science from Johns Hopkins University\n",
      "Course Ttile: IBM Data Science from IBM\n",
      "Course Ttile: Fractal Data Science from Fractal Analytics\n",
      "Course Ttile: Introduction to Data Science from IBM\n",
      "Course Ttile: Foundations of Data Science from Google\n"
     ]
    }
   ],
   "source": [
    "search_text = [\"data science\"]\n",
    "search_text_vector = vectorizer.transform(search_text)\n",
    "search_text_vector_array = np.float32(search_text_vector.toarray())\n",
    "\n",
    "distances, indices = index.search(search_text_vector_array, 5)\n",
    "\n",
    "for course_index in indices[0]:\n",
    "    print(f\"Course Ttile: {data['course_title'][course_index]} from {data['course_organization'][course_index]}\")"
   ]
  },
  {
   "cell_type": "markdown",
   "id": "e69aaf6d",
   "metadata": {},
   "source": [
    "## deploy via gradio"
   ]
  },
  {
   "cell_type": "code",
   "execution_count": 27,
   "id": "1bfcd582",
   "metadata": {
    "papermill": {
     "duration": null,
     "end_time": null,
     "exception": null,
     "start_time": null,
     "status": "pending"
    },
    "tags": []
   },
   "outputs": [],
   "source": [
    "def recommend_course(title):\n",
    "    search_text = [title]\n",
    "    search_text_vector = vectorizer.transform(search_text)\n",
    "    search_text_vector_array = np.float32(search_text_vector.toarray())\n",
    "    distances, indices = index.search(search_text_vector_array, 5)\n",
    "\n",
    "    n_1 = f\"Course Tile {data['course_title'][indices[0][0]]} from {data['course_organization'][indices[0][0]]}\"\n",
    "    n_2 = f\"Course Tile {data['course_title'][indices[0][1]]} from {data['course_organization'][indices[0][1]]}\"\n",
    "    n_3 = f\"Course Tile {data['course_title'][indices[0][2]]} from {data['course_organization'][indices[0][2]]}\"\n",
    "\n",
    "    return n_1, n_2, n_3"
   ]
  },
  {
   "cell_type": "code",
   "execution_count": 28,
   "id": "9ab89d29",
   "metadata": {},
   "outputs": [],
   "source": [
    "demo = gr.Interface(\n",
    "    title=\"Course Recommender\",\n",
    "    description=\"Enter the course title to get the recommendations\",\n",
    "    fn=recommend_course,\n",
    "    inputs=gr.Text(label=\"Course Keywords\"),\n",
    "    outputs=[gr.Text(label=\"Course 1\"), gr.Text(label=\"Course 2\"), gr.Text(label=\"Course 2\")])\n",
    "\n",
    "demo.launch(share=True)"
   ]
  },
  {
   "cell_type": "code",
   "execution_count": null,
   "id": "a05b4ea6",
   "metadata": {},
   "outputs": [],
   "source": []
  }
 ],
 "metadata": {
  "kernelspec": {
   "display_name": "Python 3",
   "language": "python",
   "name": "python3"
  },
  "language_info": {
   "codemirror_mode": {
    "name": "ipython",
    "version": 3
   },
   "file_extension": ".py",
   "mimetype": "text/x-python",
   "name": "python",
   "nbconvert_exporter": "python",
   "pygments_lexer": "ipython3",
   "version": "3.7.11"
  },
  "papermill": {
   "default_parameters": {},
   "duration": 8.72676,
   "end_time": "2023-11-05T06:18:01.269754",
   "environment_variables": {},
   "exception": true,
   "input_path": "__notebook__.ipynb",
   "output_path": "__notebook__.ipynb",
   "parameters": {},
   "start_time": "2023-11-05T06:17:52.542994",
   "version": "2.4.0"
  }
 },
 "nbformat": 4,
 "nbformat_minor": 5
}
